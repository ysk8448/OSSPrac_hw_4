{
 "cells": [
  {
   "cell_type": "code",
   "execution_count": 1,
   "metadata": {},
   "outputs": [
    {
     "name": "stdout",
     "output_type": "stream",
     "text": [
      "<출력>\n",
      "이름:  윤석규\n",
      "학번:  2020113296\n",
      "학과:  통계학과\n",
      "학교:  동국대학교\n"
     ]
    }
   ],
   "source": [
    "name = input(\"이름을 입력하세요: \")\n",
    "schnum = input(\"학번을 입력하세요: \")\n",
    "dept = input(\"학과를 입력하세요: \")\n",

    "gra = input(\"학년를 입력하세요: \")\n",
    "school = input(\"학교를 입력하세요: \")\n",
    "\n",
    "print(\"<출력>\")\n",
    "print(\"이름: \",name)\n",
    "print(\"학번: \",schnum)\n",
    "print(\"학과: \",dept)\n",

    "print(\"학년: \",gra)"

    "print(\"학교: \",school)"

   ]
  },
  {
   "cell_type": "code",
   "execution_count": null,
   "metadata": {},
   "outputs": [],
   "source": []
  }
 ],
 "metadata": {
  "kernelspec": {
   "display_name": "Python 3",
   "language": "python",
   "name": "python3"
  },
  "language_info": {
   "codemirror_mode": {
    "name": "ipython",
    "version": 3
   },
   "file_extension": ".py",
   "mimetype": "text/x-python",
   "name": "python",
   "nbconvert_exporter": "python",
   "pygments_lexer": "ipython3",
   "version": "3.10.2"
  },
  "orig_nbformat": 4
 },
 "nbformat": 4,
 "nbformat_minor": 2
}
